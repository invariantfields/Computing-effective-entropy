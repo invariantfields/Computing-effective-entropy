{
 "cells": [
  {
   "cell_type": "code",
   "execution_count": 1,
   "id": "unlikely-cause",
   "metadata": {},
   "outputs": [],
   "source": [
    "%matplotlib inline"
   ]
  },
  {
   "cell_type": "code",
   "execution_count": 4,
   "id": "worthy-teach",
   "metadata": {
    "ExecuteTime": {
     "end_time": "2021-03-25T10:12:30.937862Z",
     "start_time": "2021-03-25T10:12:24.586714Z"
    }
   },
   "outputs": [],
   "source": [
    "from IPython.display import Image\n",
    "from copy import copy,deepcopy\n",
    "from numpy import pi\n",
    "import numpy as np\n",
    "from qutip import *\n",
    "from qutip.qip.operations import *\n",
    "from qutip.qip.circuit import QubitCircuit, Gate\n",
    "import time\n",
    "# system specific data\n",
    "n = 3 # number of qubits\n",
    "gmax= 1+3*n+n*2 # number of unique gates in the universal gate set\n",
    "r = 4 # max complexity\n",
    "eta = 0.7 # success rate? \n",
    "\n",
    "def user_gate1():\n",
    "# S gate\n",
    "    mat = np.array([[1.,0],[0., 1.j]])\n",
    "    return Qobj(mat, dims=[[2], [2]])\n",
    "\n",
    "def user_gate2():\n",
    "# T gate\n",
    "    mat = np.array([[1.,0],[0., 0.707+0.707.j]])\n",
    "    return Qobj(mat, dims=[[2], [2]])"
   ]
  },
  {
   "cell_type": "code",
   "execution_count": 5,
   "id": "charming-rental",
   "metadata": {
    "ExecuteTime": {
     "end_time": "2021-03-25T10:12:30.947575Z",
     "start_time": "2021-03-25T10:12:30.940220Z"
    }
   },
   "outputs": [],
   "source": [
    "def qu(gnum,n): # pick the unitary from the gate set\n",
    "    \n",
    "    if gnum<3*n+1: \n",
    "        if gnum%n==0:\n",
    "            g_t= Gate(\"SNOT\", int((gnum-1)/n))\n",
    "        elif gnum%n==1:\n",
    "            g_t= Gate(\"S\", int((gnum-1)/n))\n",
    "        else: \n",
    "            g_t= Gate(\"T\",int((gnum-1)/n))\n",
    "    elif gnum<3*n+n+1:\n",
    "        g_t= Gate(\"CNOT\",(gnum-3*n)%n, (gnum-3*n+1)%n  )\n",
    "    elif gnum<3*n+n*2+1:\n",
    "        g_t= Gate(\"CNOT\",(gnum-3*n+1)%n, (gnum-3*n)%n  )\n",
    "    return g_t"
   ]
  },
  {
   "cell_type": "code",
   "execution_count": 6,
   "id": "detected-uncle",
   "metadata": {
    "ExecuteTime": {
     "end_time": "2021-03-25T10:12:31.070257Z",
     "start_time": "2021-03-25T10:12:30.950823Z"
    }
   },
   "outputs": [],
   "source": [
    "def quc(x,n): # generate the given quantum circuit\n",
    "    qc= QubitCircuit(n)\n",
    "    qc.user_gates = {\"S\": user_gate1,\"T\": user_gate2}\n",
    "    for i in range(len(x)):\n",
    "        if x[i]!=0:\n",
    "            qc.add_gate(qu(x[i], n))\n",
    "    prop = qc.propagators()\n",
    "    return gate_sequence_product(prop)\n",
    "    "
   ]
  },
  {
   "cell_type": "code",
   "execution_count": 7,
   "id": "another-bulletin",
   "metadata": {
    "ExecuteTime": {
     "end_time": "2021-03-25T10:12:31.273298Z",
     "start_time": "2021-03-25T10:12:31.075734Z"
    }
   },
   "outputs": [
    {
     "data": {
      "text/plain": [
       "'\\ndef base_conv(cirnum,gmax,r): # not optimal 28.8 vs 15.7\\n    xx= np.zeros(r)\\n    for i in range(r): \\n        xx[i]= cirnum%gmax\\n        cirnum//=gmax\\n    return xx\\n'"
      ]
     },
     "execution_count": 7,
     "metadata": {},
     "output_type": "execute_result"
    }
   ],
   "source": [
    "# may be faster to apply inverse i.e. loop over numbers gmax**r in base gmax\n",
    "def list_circuits(gmax,r):# list the circuits\n",
    "    def list_c(*arrays): \n",
    "        grid = np.meshgrid(*arrays)        \n",
    "        coord_list = [entry.ravel() for entry in grid]\n",
    "        points = np.vstack(coord_list).T\n",
    "        return points\n",
    "    aa = np.arange(gmax)\n",
    "    return list_c(*r*[np.arange(gmax)])\n",
    "\n",
    "# below is time inefficient buy memory efficient\n",
    "# not optimal 28.8 vs 15.7\n",
    "\"\"\"\n",
    "def base_conv(cirnum,gmax,r): # not optimal 28.8 vs 15.7\n",
    "    xx= np.zeros(r)\n",
    "    for i in range(r): \n",
    "        xx[i]= cirnum%gmax\n",
    "        cirnum//=gmax\n",
    "    return xx\n",
    "\"\"\"\n"
   ]
  },
  {
   "cell_type": "code",
   "execution_count": 8,
   "id": "accepted-ribbon",
   "metadata": {
    "ExecuteTime": {
     "end_time": "2021-03-25T10:12:31.404263Z",
     "start_time": "2021-03-25T10:12:31.276000Z"
    }
   },
   "outputs": [],
   "source": [
    "def bi(ii,n):\n",
    "    bix = np.zeros(n)\n",
    "    for i in range(n): \n",
    "        bix[i]= ii%2\n",
    "        ii//=2\n",
    "    return(bix)\n",
    "\n",
    "def list_povm(n): \n",
    "    l_povms=[]\n",
    "    for i in range(2**n):\n",
    "        pv = np.zeros(2**n)\n",
    "        b = bi(i,n)\n",
    "        pv[0]= 1\n",
    "        for j in range(len(b)): \n",
    "            if b[j]==1:\n",
    "                pv[2**j:2**(j+1)]= pv[:2**j]\n",
    "        l_povms.append(pv)\n",
    "    return(l_povms)\n",
    "\n",
    "\n",
    "# below is time inefficient buy memory efficient\n",
    "#removed since, it is less optimal 4.67s vs 3.54s\n",
    "\"\"\"\n",
    "\n",
    "def gene_povm(gnp,n): \n",
    "    pv = np.zeros(2**n)\n",
    "    b = bi(gnp,n)\n",
    "    pv[0]= 1\n",
    "    for j in range(len(b)): \n",
    "        if b[j]==1:\n",
    "            pv[2**j:2**(j+1)]= pv[:2**j]\n",
    "    return(pv)\n",
    "    \n",
    "\"\"\"\n",
    "            \n",
    "                \n",
    "                "
   ]
  },
  {
   "cell_type": "code",
   "execution_count": 1,
   "id": "constant-token",
   "metadata": {
    "ExecuteTime": {
     "end_time": "2021-03-28T16:17:52.405661Z",
     "start_time": "2021-03-28T16:17:52.389619Z"
    }
   },
   "outputs": [],
   "source": [
    "def trqrho(q,rho):\n",
    "    trq= 0\n",
    "    trq+= np.sum(q*np.diag(rho))\n",
    "    return(trq)\n",
    "\n",
    "def tr(q): \n",
    "    return(np.sum(np.diag(q)))\n"
   ]
  },
  {
   "cell_type": "code",
   "execution_count": null,
   "id": "underlying-paradise",
   "metadata": {
    "ExecuteTime": {
     "end_time": "2021-03-25T10:18:12.917725Z",
     "start_time": "2021-03-25T10:18:08.247258Z"
    }
   },
   "outputs": [],
   "source": []
  },
  {
   "cell_type": "code",
   "execution_count": null,
   "id": "engaging-jimmy",
   "metadata": {},
   "outputs": [],
   "source": []
  },
  {
   "cell_type": "code",
   "execution_count": null,
   "id": "charitable-sector",
   "metadata": {
    "ExecuteTime": {
     "end_time": "2021-03-25T10:16:21.586116Z",
     "start_time": "2021-03-25T10:16:17.368227Z"
    }
   },
   "outputs": [],
   "source": []
  },
  {
   "cell_type": "code",
   "execution_count": null,
   "id": "packed-indian",
   "metadata": {
    "ExecuteTime": {
     "end_time": "2021-03-24T20:00:53.775811Z",
     "start_time": "2021-03-24T20:00:38.114798Z"
    }
   },
   "outputs": [],
   "source": []
  },
  {
   "cell_type": "code",
   "execution_count": 7,
   "id": "manufactured-helping",
   "metadata": {
    "ExecuteTime": {
     "end_time": "2021-03-24T19:55:43.872168Z",
     "start_time": "2021-03-24T19:55:43.865453Z"
    }
   },
   "outputs": [],
   "source": [
    "qc= QubitCircuit(n)\n",
    "qc.add_gate(\"SNOT\", 1)\n"
   ]
  },
  {
   "cell_type": "markdown",
   "id": "active-bowling",
   "metadata": {},
   "source": [
    "5%2\n"
   ]
  },
  {
   "cell_type": "code",
   "execution_count": 8,
   "id": "skilled-telephone",
   "metadata": {
    "ExecuteTime": {
     "end_time": "2021-03-24T19:55:45.504599Z",
     "start_time": "2021-03-24T19:55:45.496057Z"
    }
   },
   "outputs": [],
   "source": [
    "props = qc.propagators()"
   ]
  },
  {
   "cell_type": "code",
   "execution_count": 9,
   "id": "sudden-complaint",
   "metadata": {
    "ExecuteTime": {
     "end_time": "2021-03-24T19:55:47.670558Z",
     "start_time": "2021-03-24T19:55:47.661227Z"
    }
   },
   "outputs": [
    {
     "data": {
      "text/plain": [
       "(3.240968267539653+0j)"
      ]
     },
     "execution_count": 9,
     "metadata": {},
     "output_type": "execute_result"
    }
   ],
   "source": [
    "U= gate_sequence_product(props)\n",
    "Q = np.random.rand(2**n,2**n)\n",
    "np.trace(U*Q)\n",
    "    \n"
   ]
  },
  {
   "cell_type": "code",
   "execution_count": 10,
   "id": "hungry-flight",
   "metadata": {
    "ExecuteTime": {
     "end_time": "2021-03-24T19:55:48.728193Z",
     "start_time": "2021-03-24T19:55:48.713360Z"
    }
   },
   "outputs": [
    {
     "ename": "NameError",
     "evalue": "name 'qc1' is not defined",
     "output_type": "error",
     "traceback": [
      "\u001b[0;31m---------------------------------------------------------------------------\u001b[0m",
      "\u001b[0;31mNameError\u001b[0m                                 Traceback (most recent call last)",
      "\u001b[0;32m<ipython-input-10-21450d09594f>\u001b[0m in \u001b[0;36m<module>\u001b[0;34m\u001b[0m\n\u001b[0;32m----> 1\u001b[0;31m \u001b[0mprops\u001b[0m \u001b[0;34m=\u001b[0m \u001b[0mqc1\u001b[0m\u001b[0;34m.\u001b[0m\u001b[0mpropagators\u001b[0m\u001b[0;34m(\u001b[0m\u001b[0;34m)\u001b[0m\u001b[0;34m\u001b[0m\u001b[0;34m\u001b[0m\u001b[0m\n\u001b[0m\u001b[1;32m      2\u001b[0m \u001b[0mprops\u001b[0m\u001b[0;34m[\u001b[0m\u001b[0;36m0\u001b[0m\u001b[0;34m]\u001b[0m\u001b[0;34m\u001b[0m\u001b[0;34m\u001b[0m\u001b[0m\n",
      "\u001b[0;31mNameError\u001b[0m: name 'qc1' is not defined"
     ]
    }
   ],
   "source": [
    "props = qc1.propagators()\n",
    "props[0]"
   ]
  },
  {
   "cell_type": "code",
   "execution_count": 11,
   "id": "metropolitan-digest",
   "metadata": {
    "ExecuteTime": {
     "end_time": "2021-03-24T19:55:50.185070Z",
     "start_time": "2021-03-24T19:55:50.176461Z"
    }
   },
   "outputs": [
    {
     "name": "stdout",
     "output_type": "stream",
     "text": [
      "10 1 2\n",
      "11 2 0\n",
      "12 0 1\n"
     ]
    }
   ],
   "source": [
    "for i in range(10,13):\n",
    "    print(i,(i-3*n)%n, (i-3*n+1)%n)"
   ]
  },
  {
   "cell_type": "code",
   "execution_count": 12,
   "id": "beautiful-bankruptcy",
   "metadata": {
    "ExecuteTime": {
     "end_time": "2021-03-24T19:55:53.871024Z",
     "start_time": "2021-03-24T19:55:53.864551Z"
    }
   },
   "outputs": [
    {
     "data": {
      "text/plain": [
       "2"
      ]
     },
     "execution_count": 12,
     "metadata": {},
     "output_type": "execute_result"
    }
   ],
   "source": [
    "-1%3"
   ]
  },
  {
   "cell_type": "code",
   "execution_count": 13,
   "id": "genetic-thickness",
   "metadata": {
    "ExecuteTime": {
     "end_time": "2021-03-24T19:55:54.689624Z",
     "start_time": "2021-03-24T19:55:54.678723Z"
    }
   },
   "outputs": [
    {
     "ename": "NameError",
     "evalue": "name 'a' is not defined",
     "output_type": "error",
     "traceback": [
      "\u001b[0;31m---------------------------------------------------------------------------\u001b[0m",
      "\u001b[0;31mNameError\u001b[0m                                 Traceback (most recent call last)",
      "\u001b[0;32m<ipython-input-13-3f786850e387>\u001b[0m in \u001b[0;36m<module>\u001b[0;34m\u001b[0m\n\u001b[0;32m----> 1\u001b[0;31m \u001b[0ma\u001b[0m\u001b[0;34m\u001b[0m\u001b[0;34m\u001b[0m\u001b[0m\n\u001b[0m",
      "\u001b[0;31mNameError\u001b[0m: name 'a' is not defined"
     ]
    }
   ],
   "source": [
    "a\n"
   ]
  },
  {
   "cell_type": "code",
   "execution_count": 15,
   "id": "welcome-douglas",
   "metadata": {
    "ExecuteTime": {
     "end_time": "2021-03-24T19:56:05.084412Z",
     "start_time": "2021-03-24T19:56:05.061555Z"
    }
   },
   "outputs": [
    {
     "ename": "NameError",
     "evalue": "name 'list_c' is not defined",
     "output_type": "error",
     "traceback": [
      "\u001b[0;31m---------------------------------------------------------------------------\u001b[0m",
      "\u001b[0;31mNameError\u001b[0m                                 Traceback (most recent call last)",
      "\u001b[0;32m<ipython-input-15-4897743dca89>\u001b[0m in \u001b[0;36m<module>\u001b[0;34m\u001b[0m\n\u001b[1;32m      1\u001b[0m \u001b[0ma\u001b[0m \u001b[0;34m=\u001b[0m \u001b[0mnp\u001b[0m\u001b[0;34m.\u001b[0m\u001b[0marange\u001b[0m\u001b[0;34m(\u001b[0m\u001b[0;36m50\u001b[0m\u001b[0;34m)\u001b[0m  \u001b[0;31m# fake data\u001b[0m\u001b[0;34m\u001b[0m\u001b[0;34m\u001b[0m\u001b[0m\n\u001b[0;32m----> 2\u001b[0;31m \u001b[0mprint\u001b[0m\u001b[0;34m(\u001b[0m\u001b[0mlen\u001b[0m\u001b[0;34m(\u001b[0m\u001b[0mlist_c\u001b[0m\u001b[0;34m(\u001b[0m\u001b[0;34m*\u001b[0m\u001b[0mr\u001b[0m\u001b[0;34m*\u001b[0m\u001b[0;34m[\u001b[0m\u001b[0ma\u001b[0m\u001b[0;34m]\u001b[0m\u001b[0;34m)\u001b[0m\u001b[0;34m)\u001b[0m\u001b[0;34m)\u001b[0m\u001b[0;34m\u001b[0m\u001b[0;34m\u001b[0m\u001b[0m\n\u001b[0m",
      "\u001b[0;31mNameError\u001b[0m: name 'list_c' is not defined"
     ]
    }
   ],
   "source": [
    "a = np.arange(50)  # fake data\n",
    "print(len(list_c(*r*[a])))\n"
   ]
  },
  {
   "cell_type": "code",
   "execution_count": 46,
   "id": "decent-remedy",
   "metadata": {
    "ExecuteTime": {
     "end_time": "2021-03-25T09:45:23.034041Z",
     "start_time": "2021-03-25T09:45:23.024855Z"
    }
   },
   "outputs": [
    {
     "name": "stdout",
     "output_type": "stream",
     "text": [
      "[0.49171691 0.98149052 0.31583407 0.50734355 0.71633766 0.6033593\n",
      " 0.72866585 0.74982201 0.49171691 0.98149052 0.31583407 0.50734355\n",
      " 0.71633766 0.6033593  0.72866585 0.74982201 0.57805718 0.4293471\n",
      " 0.21136173 0.95261813 0.1583954  0.48094306 0.41077553 0.58631585\n",
      " 0.70192571 0.74992607 0.46552065 0.14574783 0.05704509 0.02934502\n",
      " 0.37451038 0.40412242]\n"
     ]
    }
   ],
   "source": [
    "pv = np.random.rand(2**5)\n",
    "j = 3\n",
    "pv[2**j:2**(j+1)]= pv[:2**j]\n",
    "print(pv[:2**5])"
   ]
  },
  {
   "cell_type": "code",
   "execution_count": 37,
   "id": "analyzed-strike",
   "metadata": {
    "ExecuteTime": {
     "end_time": "2021-03-25T09:33:44.549187Z",
     "start_time": "2021-03-25T09:33:44.538692Z"
    }
   },
   "outputs": [
    {
     "name": "stdout",
     "output_type": "stream",
     "text": [
      "[1 2 3 4 5 6 7 8 9]\n"
     ]
    }
   ],
   "source": [
    "print(np.arange(1,10))"
   ]
  },
  {
   "cell_type": "code",
   "execution_count": null,
   "id": "practical-proceeding",
   "metadata": {},
   "outputs": [],
   "source": []
  },
  {
   "cell_type": "code",
   "execution_count": null,
   "id": "multiple-adobe",
   "metadata": {},
   "outputs": [],
   "source": []
  },
  {
   "cell_type": "code",
   "execution_count": null,
   "id": "direct-illustration",
   "metadata": {},
   "outputs": [],
   "source": []
  },
  {
   "cell_type": "code",
   "execution_count": null,
   "id": "seasonal-midnight",
   "metadata": {
    "collapsed": true
   },
   "outputs": [],
   "source": []
  }
 ],
 "metadata": {
  "kernelspec": {
   "display_name": "Python 3",
   "language": "python",
   "name": "python3"
  },
  "language_info": {
   "codemirror_mode": {
    "name": "ipython",
    "version": 3
   },
   "file_extension": ".py",
   "mimetype": "text/x-python",
   "name": "python",
   "nbconvert_exporter": "python",
   "pygments_lexer": "ipython3",
   "version": "3.9.2"
  }
 },
 "nbformat": 4,
 "nbformat_minor": 5
}
