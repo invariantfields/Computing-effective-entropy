{
 "cells": [
  {
   "cell_type": "code",
   "execution_count": 4,
   "id": "unlikely-cause",
   "metadata": {
    "ExecuteTime": {
     "end_time": "2021-04-12T17:13:02.820714Z",
     "start_time": "2021-04-12T17:13:02.774047Z"
    }
   },
   "outputs": [],
   "source": [
    "%matplotlib inline\n",
    "%load_ext heat"
   ]
  },
  {
   "cell_type": "code",
   "execution_count": 18,
   "id": "worthy-teach",
   "metadata": {
    "ExecuteTime": {
     "end_time": "2021-04-13T20:32:18.121336Z",
     "start_time": "2021-04-13T20:32:09.937767Z"
    }
   },
   "outputs": [],
   "source": [
    "from IPython.display import Image\n",
    "from copy import copy,deepcopy\n",
    "from numpy import pi\n",
    "import numpy as np\n",
    "from qutip import *\n",
    "from qutip.qip.operations import *\n",
    "from qutip.qip.circuit import QubitCircuit, Gate\n",
    "import time\n",
    "from itertools import combinations\n",
    "\n",
    "\n",
    "def user_gate1():\n",
    "# S gate\n",
    "    mat = np.array([[1.,0],[0., 1.j]])\n",
    "    return Qobj(mat, dims=[[2], [2]])\n",
    "\n",
    "def user_gate2():\n",
    "# T gate\n",
    "    mat = np.array([[1.,0],[0., 0.707+0.707j]])\n",
    "    return Qobj(mat, dims=[[2], [2]])"
   ]
  },
  {
   "cell_type": "code",
   "execution_count": 19,
   "id": "charming-rental",
   "metadata": {
    "ExecuteTime": {
     "end_time": "2021-04-13T20:32:18.138664Z",
     "start_time": "2021-04-13T20:32:18.127762Z"
    }
   },
   "outputs": [],
   "source": [
    "def qu(gnum,n): # pick the unitary from the gate set #error\n",
    "    if gnum<2*n+1:\n",
    "        #print('a'+str(int((gnum-1)/n)))\n",
    "        if gnum%n==0:\n",
    "            g_t= Gate(\"SNOT\", int((gnum-1)/n))\n",
    "        else: \n",
    "            g_t= Gate(\"T\",int((gnum-1)/n))\n",
    "    elif gnum<2*n+n+1:\n",
    "        g_t= Gate()\n",
    "    return g_t"
   ]
  },
  {
   "cell_type": "code",
   "execution_count": 20,
   "id": "detected-uncle",
   "metadata": {
    "ExecuteTime": {
     "end_time": "2021-04-13T20:32:18.424684Z",
     "start_time": "2021-04-13T20:32:18.146026Z"
    }
   },
   "outputs": [],
   "source": [
    "def quc(x,n): # generate the given quantum circuit\n",
    "    qc= QubitCircuit(n)\n",
    "    qc.user_gates = {\"S\": user_gate1,\"T\": user_gate2}\n",
    "    for i in range(len(x)):\n",
    "        if x[i]!=0:\n",
    "            qc.add_gate(qu(x[i], n))\n",
    "    prop = qc.propagators()\n",
    "    return gate_sequence_product(prop).full()\n",
    "    "
   ]
  },
  {
   "cell_type": "code",
   "execution_count": 21,
   "id": "another-bulletin",
   "metadata": {
    "ExecuteTime": {
     "end_time": "2021-04-13T20:32:18.519053Z",
     "start_time": "2021-04-13T20:32:18.433436Z"
    }
   },
   "outputs": [],
   "source": [
    "#may be faster to apply inverse i.e. loop over numbers gmax**r in base gmax\n",
    "# def list_circuits(gmax,r):# list the circuits\n",
    "#     def list_c(*arrays): \n",
    "#         grid = np.meshgrid(*arrays)        \n",
    "#         coord_list = [entry.ravel() for entry in grid]\n",
    "#         points = np.vstack(coord_list).T\n",
    "#         return points\n",
    "#     aa = np.arange(gmax)\n",
    "#     return list_c(*r*[np.arange(gmax)])\n",
    "\n",
    "# below is time inefficient but memory efficient\n",
    "# not optimal 28.8 vs 15.7\n",
    "\n",
    "def base_conv(cirnum,gmax,r): \n",
    "    xx= np.zeros(r)\n",
    "    num=np.copy(cirnum)\n",
    "    for i in range(r): \n",
    "        xx[i]= num%gmax\n",
    "        num//=gmax\n",
    "    return xx\n",
    "\n"
   ]
  },
  {
   "cell_type": "code",
   "execution_count": 22,
   "id": "accepted-ribbon",
   "metadata": {
    "ExecuteTime": {
     "end_time": "2021-04-13T20:32:18.671313Z",
     "start_time": "2021-04-13T20:32:18.521397Z"
    }
   },
   "outputs": [],
   "source": [
    "def bi(ii,n):\n",
    "    bix = np.zeros(n)\n",
    "    for i in range(n): \n",
    "        bix[i]= ii%2\n",
    "        ii//=2\n",
    "    return(bix)\n",
    "\n",
    "def list_povm(n): \n",
    "    l_povms=[]\n",
    "    for i in range(2**n):\n",
    "        pv = np.zeros(2**n)\n",
    "        b = bi(i,n)\n",
    "        pv[0]= 1\n",
    "        for j in range(len(b)): \n",
    "            if b[j]==1:\n",
    "                pv[2**j:2**(j+1)]= pv[:2**j]\n",
    "        l_povms.append(np.diag(pv))\n",
    "    return(l_povms)\n",
    "\n",
    "\n",
    "# below is time inefficient but memory efficient\n",
    "#removed since, it is less optimal 4.67s vs 3.54s\n",
    "\n",
    "\n",
    "def gene_povm(gnp,n): \n",
    "    pv = np.zeros(2**n)\n",
    "    b = gnp\n",
    "    pv[0]= 1\n",
    "    for j in range(len(b)): \n",
    "        if b[j]==1:\n",
    "            pv[2**j:2**(j+1)]= pv[:2**j]\n",
    "    return(np.diag(pv)) \n",
    "\n",
    "            \n",
    "                \n",
    "                "
   ]
  },
  {
   "cell_type": "code",
   "execution_count": 23,
   "id": "constant-token",
   "metadata": {
    "ExecuteTime": {
     "end_time": "2021-04-13T20:32:18.795473Z",
     "start_time": "2021-04-13T20:32:18.675562Z"
    }
   },
   "outputs": [],
   "source": [
    "def trqrho(q,rho):\n",
    "    trq= 0\n",
    "    trq+= np.dot(np.diag(q),np.diag(rho))\n",
    "    return(trq)\n",
    "\n",
    "def tr(q): \n",
    "    return(np.sum(q))\n"
   ]
  },
  {
   "cell_type": "code",
   "execution_count": 24,
   "id": "engaging-jimmy",
   "metadata": {
    "ExecuteTime": {
     "end_time": "2021-04-13T20:32:18.963571Z",
     "start_time": "2021-04-13T20:32:18.799828Z"
    }
   },
   "outputs": [],
   "source": [
    "# All the inputs are in this box \n",
    "\n",
    "# system specific data\n",
    "n = 3 # number of qubits\n",
    "gmax= 1+3*n+2*n # number of unique gates in the universal gate set\n",
    "\n",
    "\n"
   ]
  },
  {
   "cell_type": "code",
   "execution_count": 25,
   "id": "particular-surveillance",
   "metadata": {
    "ExecuteTime": {
     "end_time": "2021-04-13T20:32:19.378896Z",
     "start_time": "2021-04-13T20:32:18.969012Z"
    }
   },
   "outputs": [],
   "source": [
    "# process specific\n",
    "r = 4 # max complexity\n",
    "eta = 0.9 # success rate? \n",
    "# define rho below this\n",
    "x = np.random.rand(2**n,2**n)\n",
    "rho= x@x.transpose()\n",
    "rho = rho/np.trace(rho)\n"
   ]
  },
  {
   "cell_type": "code",
   "execution_count": 27,
   "id": "computational-jacksonville",
   "metadata": {
    "ExecuteTime": {
     "end_time": "2021-04-13T20:32:42.618016Z",
     "start_time": "2021-04-13T20:32:38.812090Z"
    }
   },
   "outputs": [
    {
     "name": "stdout",
     "output_type": "stream",
     "text": [
      "[0.0000e+00 1.0000e+00 2.0000e+00 ... 6.5533e+04 6.5534e+04 6.5535e+04]\n"
     ]
    }
   ],
   "source": [
    "ndg_list=[]\n",
    "tt=0\n",
    "for cnum in range(0,gmax**r):\n",
    "    bc=base_conv(cnum,gmax,r)\n",
    "    if np.all(bc[bc !=0]-bc[:len(bc[bc !=0])]==0):\n",
    "        #print(cnum)\n",
    "        #print(bc)\n",
    "        ndg_list = np.append(ndg_list,cnum)\n",
    "        #print(ndg_list)\n",
    "print(ndg_list)"
   ]
  },
  {
   "cell_type": "code",
   "execution_count": 14,
   "id": "packed-indian",
   "metadata": {
    "ExecuteTime": {
     "end_time": "2021-04-13T09:19:49.341016Z",
     "start_time": "2021-04-13T09:19:49.135270Z"
    }
   },
   "outputs": [
    {
     "ename": "NameError",
     "evalue": "name 'np' is not defined",
     "output_type": "error",
     "traceback": [
      "\u001b[0;31m---------------------------------------------------------------------------\u001b[0m",
      "\u001b[0;31mNameError\u001b[0m                                 Traceback (most recent call last)",
      "\u001b[0;32m<ipython-input-14-2409761d27ed>\u001b[0m in \u001b[0;36m<module>\u001b[0;34m\u001b[0m\n\u001b[1;32m      1\u001b[0m \u001b[0mcirci\u001b[0m\u001b[0;34m=\u001b[0m\u001b[0;36m0\u001b[0m\u001b[0;34m\u001b[0m\u001b[0;34m\u001b[0m\u001b[0m\n\u001b[0;32m----> 2\u001b[0;31m \u001b[0mpovmi\u001b[0m\u001b[0;34m=\u001b[0m\u001b[0mnp\u001b[0m\u001b[0;34m.\u001b[0m\u001b[0mzeros\u001b[0m\u001b[0;34m(\u001b[0m\u001b[0mn\u001b[0m\u001b[0;34m)\u001b[0m\u001b[0;34m\u001b[0m\u001b[0;34m\u001b[0m\u001b[0m\n\u001b[0m\u001b[1;32m      3\u001b[0m \u001b[0mH\u001b[0m\u001b[0;34m=\u001b[0m\u001b[0;36m2\u001b[0m\u001b[0;34m**\u001b[0m\u001b[0mn\u001b[0m\u001b[0;34m\u001b[0m\u001b[0;34m\u001b[0m\u001b[0m\n\u001b[1;32m      4\u001b[0m \u001b[0;32mfor\u001b[0m \u001b[0mcnum\u001b[0m \u001b[0;32min\u001b[0m \u001b[0mnp\u001b[0m\u001b[0;34m.\u001b[0m\u001b[0mnditer\u001b[0m\u001b[0;34m(\u001b[0m\u001b[0mndg_list\u001b[0m\u001b[0;34m)\u001b[0m\u001b[0;34m:\u001b[0m\u001b[0;34m\u001b[0m\u001b[0;34m\u001b[0m\u001b[0m\n\u001b[1;32m      5\u001b[0m     \u001b[0;31m#print(cnum)\u001b[0m\u001b[0;34m\u001b[0m\u001b[0;34m\u001b[0m\u001b[0;34m\u001b[0m\u001b[0m\n",
      "\u001b[0;31mNameError\u001b[0m: name 'np' is not defined"
     ]
    }
   ],
   "source": [
    "circi=0\n",
    "povmi=np.zeros(n)\n",
    "H=2**n\n",
    "for cnum in np.nditer(ndg_list):\n",
    "    #print(cnum)\n",
    "    #print(base_conv(cnum,gmax,r))\n",
    "    bc = base_conv(cnum,gmax,r)\n",
    "    U = quc(bc,n)\n",
    "    #print(U)\n",
    "    sigma = U@rho@U.conj() # use of einsum may make it faster? need to make this step faster? sparce?\n",
    "    counter = 0\n",
    "    for qbits in range(n+1): \n",
    "        for pv in combinations(np.arange(n),n-qbits):\n",
    "            pov = np.zeros(n)\n",
    "            for iden in  range(len(pv)):\n",
    "                pov[pv[iden]]= 1\n",
    "            povm = gene_povm(pov,n)\n",
    "            if trqrho(sigma,povm)>=eta: \n",
    "                counter+=1\n",
    "                if tr(povm)<H:\n",
    "                    circi = cnum\n",
    "                    povmi = pov\n",
    "                    H = tr(povm)\n",
    "        if counter==0:\n",
    "            break\n",
    "        else: \n",
    "            counter=0\n",
    "\n",
    "print(\"effective entropy for eta=\"+str(eta)+\" and r=\"+str(r) +\" is \"+ str(np.log(H)/np.log(2)))    "
   ]
  },
  {
   "cell_type": "code",
   "execution_count": 34,
   "id": "enabling-middle",
   "metadata": {
    "ExecuteTime": {
     "end_time": "2021-04-12T20:02:53.591301Z",
     "start_time": "2021-04-12T20:02:53.568241Z"
    },
    "scrolled": true
   },
   "outputs": [
    {
     "name": "stdout",
     "output_type": "stream",
     "text": [
      "[0. 1. 1.]\n",
      "2714.0\n",
      "[0.20188347+0.j 0.01262798+0.j 0.19867605+0.j 0.0068577 +0.j\n",
      " 0.22558329+0.j 0.02378693+0.j 0.2994622 +0.j 0.03112239+0.j]\n",
      "(0.9999999999999997+0j)\n"
     ]
    }
   ],
   "source": [
    "print(povmi)#873\n",
    "print(circi)\n",
    "U = quc(base_conv(circi,gmax,r),n)\n",
    "print(np.diag(U@rho@U.conj()))\n",
    "print(np.sum(np.diag(U@rho@U.conj())))"
   ]
  },
  {
   "cell_type": "code",
   "execution_count": null,
   "id": "handmade-primary",
   "metadata": {},
   "outputs": [],
   "source": [
    "#data from before\n",
    "# [[1. 0. 0. 0. 0. 0. 0. 0.]\n",
    "#  [0. 1. 0. 0. 0. 0. 0. 0.]\n",
    "#  [0. 0. 0. 0. 0. 0. 0. 0.]\n",
    "#  [0. 0. 0. 0. 0. 0. 0. 0.]\n",
    "#  [0. 0. 0. 0. 0. 0. 0. 0.]\n",
    "#  [0. 0. 0. 0. 0. 0. 0. 0.]\n",
    "#  [0. 0. 0. 0. 0. 0. 0. 0.]\n",
    "#  [0. 0. 0. 0. 0. 0. 0. 0.]]\n",
    "# 54\n",
    "# [0.37804113+0.j 0.44065229+0.j 0.03834387+0.j 0.04410131+0.j\n",
    "#  0.02560767+0.j 0.01531818+0.j 0.01909968+0.j 0.03883588+0.j]\n",
    "# (0.9999999999999996+0j)\n"
   ]
  },
  {
   "cell_type": "code",
   "execution_count": 44,
   "id": "conservative-divorce",
   "metadata": {
    "ExecuteTime": {
     "end_time": "2021-04-08T10:31:29.133750Z",
     "start_time": "2021-04-08T10:31:29.013070Z"
    }
   },
   "outputs": [],
   "source": [
    "# Below is testing rough ideas "
   ]
  },
  {
   "cell_type": "code",
   "execution_count": 114,
   "id": "increased-impression",
   "metadata": {
    "ExecuteTime": {
     "end_time": "2021-04-08T11:36:30.614885Z",
     "start_time": "2021-04-08T11:36:30.606709Z"
    },
    "scrolled": true
   },
   "outputs": [],
   "source": [
    "counter = 0\n",
    "for qbits in range(n+1): \n",
    "    for pv in combinations(np.arange(n),n-qbits):\n",
    "        pov = np.zeros(n)\n",
    "        for iden in  range(len(pv)):\n",
    "            pov[pv[iden]]= 1\n",
    "        povm = gene_povm(pov,n)\n",
    "        if trqrho(sigma,povm)>=eta: \n",
    "            counter+=1\n",
    "            if tr(povm)<H:\n",
    "                circi = cnum\n",
    "                povmi = pov\n",
    "                H = tr(povm)\n",
    "    if counter==0:\n",
    "        break\n",
    "    else: \n",
    "        counter=0\n",
    "\n",
    "        \n",
    "    "
   ]
  },
  {
   "cell_type": "code",
   "execution_count": 170,
   "id": "second-cable",
   "metadata": {
    "ExecuteTime": {
     "end_time": "2021-04-12T12:07:59.215097Z",
     "start_time": "2021-04-12T12:07:59.209247Z"
    }
   },
   "outputs": [],
   "source": [
    "a  = np.zeros(5)\n",
    "a[3]=2\n",
    "a[1]=1\n"
   ]
  },
  {
   "cell_type": "code",
   "execution_count": null,
   "id": "approximate-partition",
   "metadata": {},
   "outputs": [],
   "source": []
  },
  {
   "cell_type": "code",
   "execution_count": null,
   "id": "prime-income",
   "metadata": {},
   "outputs": [],
   "source": [
    "if np.all(bc[bc !=0]-bc[:len(bc[bc !=0])]==0):\n"
   ]
  },
  {
   "cell_type": "code",
   "execution_count": 171,
   "id": "numerous-zambia",
   "metadata": {
    "ExecuteTime": {
     "end_time": "2021-04-12T12:08:00.291761Z",
     "start_time": "2021-04-12T12:08:00.287115Z"
    }
   },
   "outputs": [
    {
     "name": "stdout",
     "output_type": "stream",
     "text": [
      "no\n"
     ]
    }
   ],
   "source": [
    " b =a[a !=0]\n",
    "if np.all(a[a !=0]-a[:len(a[a !=0])]==0):\n",
    "    print(\"yes\")\n",
    "else:\n",
    "    print(\"no\")"
   ]
  },
  {
   "cell_type": "code",
   "execution_count": null,
   "id": "dental-gossip",
   "metadata": {},
   "outputs": [],
   "source": [
    "def base_inv\n",
    "def degeneracy_check(x,gmax):\n",
    "    y = x[x !=0]\n",
    "    \n",
    "    "
   ]
  },
  {
   "cell_type": "code",
   "execution_count": 64,
   "id": "manufactured-helping",
   "metadata": {
    "ExecuteTime": {
     "end_time": "2021-04-07T07:42:49.706205Z",
     "start_time": "2021-04-07T07:42:49.696878Z"
    }
   },
   "outputs": [],
   "source": [
    "qc= QubitCircuit(n)\n",
    "qc.add_gate(\"SNOT\", 1)\n",
    "qc.add_gate(\"CNOT\",1,2)"
   ]
  },
  {
   "cell_type": "code",
   "execution_count": 51,
   "id": "regular-stupid",
   "metadata": {
    "ExecuteTime": {
     "end_time": "2021-04-07T07:32:53.637096Z",
     "start_time": "2021-04-07T07:32:53.625992Z"
    }
   },
   "outputs": [
    {
     "data": {
      "text/plain": [
       "0.9932517730102834"
      ]
     },
     "execution_count": 51,
     "metadata": {},
     "output_type": "execute_result"
    }
   ],
   "source": [
    "a = np.random.rand(8,8)\n",
    "b = np.random.rand(8,8)\n",
    "c = a@b@a.conj()\n",
    "np.log(2.7)"
   ]
  },
  {
   "cell_type": "code",
   "execution_count": 65,
   "id": "collective-porcelain",
   "metadata": {
    "ExecuteTime": {
     "end_time": "2021-04-07T07:43:14.458204Z",
     "start_time": "2021-04-07T07:43:14.443782Z"
    }
   },
   "outputs": [
    {
     "data": {
      "text/plain": [
       "(2, 0)"
      ]
     },
     "execution_count": 65,
     "metadata": {},
     "output_type": "execute_result"
    }
   ],
   "source": [
    "gnum=11\n",
    "(gnum-3*n)%n, (gnum-3*n+1)%n"
   ]
  },
  {
   "cell_type": "code",
   "execution_count": 92,
   "id": "joined-albert",
   "metadata": {
    "ExecuteTime": {
     "end_time": "2021-04-08T11:10:27.561705Z",
     "start_time": "2021-04-08T11:10:27.548277Z"
    }
   },
   "outputs": [
    {
     "name": "stdout",
     "output_type": "stream",
     "text": [
      "0\n",
      "1\n",
      "0\n",
      "2\n",
      "0\n",
      "3\n",
      "0\n",
      "4\n",
      "1\n",
      "2\n",
      "1\n",
      "3\n",
      "1\n",
      "4\n",
      "2\n",
      "3\n",
      "2\n",
      "4\n",
      "3\n",
      "4\n"
     ]
    }
   ],
   "source": [
    "a = combinations(np.arange(5),2)\n",
    "#print(list(a)[0])\n",
    "for i in a:\n",
    "    for j in range(len(i)): \n",
    "        print(i[j])"
   ]
  },
  {
   "cell_type": "code",
   "execution_count": 109,
   "id": "acknowledged-surfing",
   "metadata": {
    "ExecuteTime": {
     "end_time": "2021-04-08T11:33:03.473270Z",
     "start_time": "2021-04-08T11:33:03.467659Z"
    }
   },
   "outputs": [
    {
     "name": "stdout",
     "output_type": "stream",
     "text": [
      "[5 4 3 2 1]\n"
     ]
    }
   ],
   "source": [
    "print(5-np.arange(5))"
   ]
  },
  {
   "cell_type": "markdown",
   "id": "active-bowling",
   "metadata": {},
   "source": [
    "5%2\n"
   ]
  },
  {
   "cell_type": "code",
   "execution_count": 22,
   "id": "skilled-telephone",
   "metadata": {
    "ExecuteTime": {
     "end_time": "2021-04-07T06:40:35.241142Z",
     "start_time": "2021-04-07T06:40:34.931880Z"
    }
   },
   "outputs": [],
   "source": [
    "props = qc.propagators()"
   ]
  },
  {
   "cell_type": "code",
   "execution_count": 46,
   "id": "sudden-complaint",
   "metadata": {
    "ExecuteTime": {
     "end_time": "2021-04-07T07:16:15.498689Z",
     "start_time": "2021-04-07T07:16:15.482658Z"
    }
   },
   "outputs": [
    {
     "data": {
      "text/plain": [
       "array([[ 0.70710678-0.j,  0.        -0.j,  0.70710678-0.j,\n",
       "         0.        -0.j,  0.        -0.j,  0.        -0.j,\n",
       "         0.        -0.j,  0.        -0.j],\n",
       "       [ 0.        -0.j,  0.70710678-0.j,  0.        -0.j,\n",
       "         0.70710678-0.j,  0.        -0.j,  0.        -0.j,\n",
       "         0.        -0.j,  0.        -0.j],\n",
       "       [ 0.70710678-0.j,  0.        -0.j, -0.70710678-0.j,\n",
       "         0.        -0.j,  0.        -0.j,  0.        -0.j,\n",
       "         0.        -0.j,  0.        -0.j],\n",
       "       [ 0.        -0.j,  0.70710678-0.j,  0.        -0.j,\n",
       "        -0.70710678-0.j,  0.        -0.j,  0.        -0.j,\n",
       "         0.        -0.j,  0.        -0.j],\n",
       "       [ 0.        -0.j,  0.        -0.j,  0.        -0.j,\n",
       "         0.        -0.j,  0.70710678-0.j,  0.        -0.j,\n",
       "         0.70710678-0.j,  0.        -0.j],\n",
       "       [ 0.        -0.j,  0.        -0.j,  0.        -0.j,\n",
       "         0.        -0.j,  0.        -0.j,  0.70710678-0.j,\n",
       "         0.        -0.j,  0.70710678-0.j],\n",
       "       [ 0.        -0.j,  0.        -0.j,  0.        -0.j,\n",
       "         0.        -0.j,  0.70710678-0.j,  0.        -0.j,\n",
       "        -0.70710678-0.j,  0.        -0.j],\n",
       "       [ 0.        -0.j,  0.        -0.j,  0.        -0.j,\n",
       "         0.        -0.j,  0.        -0.j,  0.70710678-0.j,\n",
       "         0.        -0.j, -0.70710678-0.j]])"
      ]
     },
     "execution_count": 46,
     "metadata": {},
     "output_type": "execute_result"
    }
   ],
   "source": [
    "U= gate_sequence_product(props).full()\n",
    "U.conj()\n",
    "# Q = np.random.rand(2**n,2**n)\n",
    "# np.trace(U*Q)\n",
    "    \n"
   ]
  },
  {
   "cell_type": "code",
   "execution_count": 10,
   "id": "hungry-flight",
   "metadata": {
    "ExecuteTime": {
     "end_time": "2021-03-24T19:55:48.728193Z",
     "start_time": "2021-03-24T19:55:48.713360Z"
    }
   },
   "outputs": [
    {
     "ename": "NameError",
     "evalue": "name 'qc1' is not defined",
     "output_type": "error",
     "traceback": [
      "\u001b[0;31m---------------------------------------------------------------------------\u001b[0m",
      "\u001b[0;31mNameError\u001b[0m                                 Traceback (most recent call last)",
      "\u001b[0;32m<ipython-input-10-21450d09594f>\u001b[0m in \u001b[0;36m<module>\u001b[0;34m\u001b[0m\n\u001b[0;32m----> 1\u001b[0;31m \u001b[0mprops\u001b[0m \u001b[0;34m=\u001b[0m \u001b[0mqc1\u001b[0m\u001b[0;34m.\u001b[0m\u001b[0mpropagators\u001b[0m\u001b[0;34m(\u001b[0m\u001b[0;34m)\u001b[0m\u001b[0;34m\u001b[0m\u001b[0;34m\u001b[0m\u001b[0m\n\u001b[0m\u001b[1;32m      2\u001b[0m \u001b[0mprops\u001b[0m\u001b[0;34m[\u001b[0m\u001b[0;36m0\u001b[0m\u001b[0;34m]\u001b[0m\u001b[0;34m\u001b[0m\u001b[0;34m\u001b[0m\u001b[0m\n",
      "\u001b[0;31mNameError\u001b[0m: name 'qc1' is not defined"
     ]
    }
   ],
   "source": [
    "props = qc1.propagators()\n",
    "props[0]"
   ]
  },
  {
   "cell_type": "code",
   "execution_count": 11,
   "id": "metropolitan-digest",
   "metadata": {
    "ExecuteTime": {
     "end_time": "2021-03-24T19:55:50.185070Z",
     "start_time": "2021-03-24T19:55:50.176461Z"
    }
   },
   "outputs": [
    {
     "name": "stdout",
     "output_type": "stream",
     "text": [
      "10 1 2\n",
      "11 2 0\n",
      "12 0 1\n"
     ]
    }
   ],
   "source": [
    "for i in range(10,13):\n",
    "    print(i,(i-3*n)%n, (i-3*n+1)%n)"
   ]
  },
  {
   "cell_type": "code",
   "execution_count": 112,
   "id": "beautiful-bankruptcy",
   "metadata": {
    "ExecuteTime": {
     "end_time": "2021-04-08T11:36:00.892238Z",
     "start_time": "2021-04-08T11:36:00.886130Z"
    }
   },
   "outputs": [
    {
     "name": "stdout",
     "output_type": "stream",
     "text": [
      "0\n",
      "1\n",
      "2\n",
      "3\n",
      "4\n",
      "5\n"
     ]
    }
   ],
   "source": [
    "for i in range(5+1):\n",
    "    print(i)"
   ]
  },
  {
   "cell_type": "code",
   "execution_count": 13,
   "id": "genetic-thickness",
   "metadata": {
    "ExecuteTime": {
     "end_time": "2021-03-24T19:55:54.689624Z",
     "start_time": "2021-03-24T19:55:54.678723Z"
    }
   },
   "outputs": [
    {
     "ename": "NameError",
     "evalue": "name 'a' is not defined",
     "output_type": "error",
     "traceback": [
      "\u001b[0;31m---------------------------------------------------------------------------\u001b[0m",
      "\u001b[0;31mNameError\u001b[0m                                 Traceback (most recent call last)",
      "\u001b[0;32m<ipython-input-13-3f786850e387>\u001b[0m in \u001b[0;36m<module>\u001b[0;34m\u001b[0m\n\u001b[0;32m----> 1\u001b[0;31m \u001b[0ma\u001b[0m\u001b[0;34m\u001b[0m\u001b[0;34m\u001b[0m\u001b[0m\n\u001b[0m",
      "\u001b[0;31mNameError\u001b[0m: name 'a' is not defined"
     ]
    }
   ],
   "source": [
    "a\n"
   ]
  },
  {
   "cell_type": "code",
   "execution_count": 15,
   "id": "welcome-douglas",
   "metadata": {
    "ExecuteTime": {
     "end_time": "2021-03-24T19:56:05.084412Z",
     "start_time": "2021-03-24T19:56:05.061555Z"
    }
   },
   "outputs": [
    {
     "ename": "NameError",
     "evalue": "name 'list_c' is not defined",
     "output_type": "error",
     "traceback": [
      "\u001b[0;31m---------------------------------------------------------------------------\u001b[0m",
      "\u001b[0;31mNameError\u001b[0m                                 Traceback (most recent call last)",
      "\u001b[0;32m<ipython-input-15-4897743dca89>\u001b[0m in \u001b[0;36m<module>\u001b[0;34m\u001b[0m\n\u001b[1;32m      1\u001b[0m \u001b[0ma\u001b[0m \u001b[0;34m=\u001b[0m \u001b[0mnp\u001b[0m\u001b[0;34m.\u001b[0m\u001b[0marange\u001b[0m\u001b[0;34m(\u001b[0m\u001b[0;36m50\u001b[0m\u001b[0;34m)\u001b[0m  \u001b[0;31m# fake data\u001b[0m\u001b[0;34m\u001b[0m\u001b[0;34m\u001b[0m\u001b[0m\n\u001b[0;32m----> 2\u001b[0;31m \u001b[0mprint\u001b[0m\u001b[0;34m(\u001b[0m\u001b[0mlen\u001b[0m\u001b[0;34m(\u001b[0m\u001b[0mlist_c\u001b[0m\u001b[0;34m(\u001b[0m\u001b[0;34m*\u001b[0m\u001b[0mr\u001b[0m\u001b[0;34m*\u001b[0m\u001b[0;34m[\u001b[0m\u001b[0ma\u001b[0m\u001b[0;34m]\u001b[0m\u001b[0;34m)\u001b[0m\u001b[0;34m)\u001b[0m\u001b[0;34m)\u001b[0m\u001b[0;34m\u001b[0m\u001b[0;34m\u001b[0m\u001b[0m\n\u001b[0m",
      "\u001b[0;31mNameError\u001b[0m: name 'list_c' is not defined"
     ]
    }
   ],
   "source": [
    "a = np.arange(50)  # fake data\n",
    "print(len(list_c(*r*[a])))\n"
   ]
  },
  {
   "cell_type": "code",
   "execution_count": 46,
   "id": "decent-remedy",
   "metadata": {
    "ExecuteTime": {
     "end_time": "2021-03-25T09:45:23.034041Z",
     "start_time": "2021-03-25T09:45:23.024855Z"
    }
   },
   "outputs": [
    {
     "name": "stdout",
     "output_type": "stream",
     "text": [
      "[0.49171691 0.98149052 0.31583407 0.50734355 0.71633766 0.6033593\n",
      " 0.72866585 0.74982201 0.49171691 0.98149052 0.31583407 0.50734355\n",
      " 0.71633766 0.6033593  0.72866585 0.74982201 0.57805718 0.4293471\n",
      " 0.21136173 0.95261813 0.1583954  0.48094306 0.41077553 0.58631585\n",
      " 0.70192571 0.74992607 0.46552065 0.14574783 0.05704509 0.02934502\n",
      " 0.37451038 0.40412242]\n"
     ]
    }
   ],
   "source": [
    "pv = np.random.rand(2**5)\n",
    "j = 3\n",
    "pv[2**j:2**(j+1)]= pv[:2**j]\n",
    "print(pv[:2**5])"
   ]
  },
  {
   "cell_type": "code",
   "execution_count": 111,
   "id": "analyzed-strike",
   "metadata": {
    "ExecuteTime": {
     "end_time": "2021-04-08T11:34:34.668661Z",
     "start_time": "2021-04-08T11:34:34.662056Z"
    }
   },
   "outputs": [
    {
     "data": {
      "text/plain": [
       "range(5, 1)"
      ]
     },
     "execution_count": 111,
     "metadata": {},
     "output_type": "execute_result"
    }
   ],
   "source": [
    "range(5,1)"
   ]
  },
  {
   "cell_type": "code",
   "execution_count": 28,
   "id": "alone-contents",
   "metadata": {
    "ExecuteTime": {
     "end_time": "2021-04-12T17:44:53.027613Z",
     "start_time": "2021-04-12T17:44:53.021437Z"
    }
   },
   "outputs": [
    {
     "name": "stdout",
     "output_type": "stream",
     "text": [
      "65536\n"
     ]
    }
   ],
   "source": [
    "a = gmax**r\n",
    "print(a)"
   ]
  },
  {
   "cell_type": "code",
   "execution_count": null,
   "id": "differential-bahamas",
   "metadata": {},
   "outputs": [],
   "source": []
  }
 ],
 "metadata": {
  "kernelspec": {
   "display_name": "Python 3",
   "language": "python",
   "name": "python3"
  },
  "language_info": {
   "codemirror_mode": {
    "name": "ipython",
    "version": 3
   },
   "file_extension": ".py",
   "mimetype": "text/x-python",
   "name": "python",
   "nbconvert_exporter": "python",
   "pygments_lexer": "ipython3",
   "version": "3.9.2"
  }
 },
 "nbformat": 4,
 "nbformat_minor": 5
}
